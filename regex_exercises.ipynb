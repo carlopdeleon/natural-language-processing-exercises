{
 "cells": [
  {
   "cell_type": "code",
   "execution_count": 3,
   "id": "458e2395",
   "metadata": {},
   "outputs": [],
   "source": [
    "import pandas as pd\n",
    "import numpy as np\n",
    "import re"
   ]
  },
  {
   "cell_type": "markdown",
   "id": "1a62ccd5",
   "metadata": {},
   "source": [
    "## Write a function named is_vowel. It should accept a string as input and use a regular expression to determine if the passed string is a vowel. While not explicity mentioned in the lesson, you can treat the result of re.search as a boolean value that indicates whether or not the regular expression matches the given string."
   ]
  },
  {
   "cell_type": "code",
   "execution_count": 314,
   "id": "3e70033a",
   "metadata": {},
   "outputs": [],
   "source": [
    "def is_vowel(string):\n",
    "    \n",
    "    # Anything outher than a vowel\n",
    "    vowel_list = r'[^aeiou]'\n",
    "    \n",
    "    # Statement to see if there is a consonant/character \n",
    "    if re.search(vowel_list, string, re.IGNORECASE):\n",
    "        return False\n",
    "    \n",
    "    else:\n",
    "        return True\n",
    "    "
   ]
  },
  {
   "cell_type": "code",
   "execution_count": 315,
   "id": "80815541",
   "metadata": {},
   "outputs": [
    {
     "data": {
      "text/plain": [
       "True"
      ]
     },
     "execution_count": 315,
     "metadata": {},
     "output_type": "execute_result"
    }
   ],
   "source": [
    "is_vowel('aeiou')"
   ]
  },
  {
   "cell_type": "code",
   "execution_count": 316,
   "id": "2711acf8",
   "metadata": {},
   "outputs": [
    {
     "data": {
      "text/plain": [
       "False"
      ]
     },
     "execution_count": 316,
     "metadata": {},
     "output_type": "execute_result"
    }
   ],
   "source": [
    "is_vowel('naruto')"
   ]
  },
  {
   "cell_type": "code",
   "execution_count": 317,
   "id": "3d41adb5",
   "metadata": {},
   "outputs": [
    {
     "data": {
      "text/plain": [
       "True"
      ]
     },
     "execution_count": 317,
     "metadata": {},
     "output_type": "execute_result"
    }
   ],
   "source": [
    "is_vowel('A')"
   ]
  },
  {
   "cell_type": "markdown",
   "id": "db9432ac",
   "metadata": {},
   "source": [
    "## Write a function named is_valid_username that accepts a string as input. A valid username starts with a lowercase letter, and only consists of lowercase letters, numbers, or the _ character. It should also be no longer than 32 characters. The function should return either True or False depending on whether the passed string is a valid username."
   ]
  },
  {
   "cell_type": "code",
   "execution_count": 277,
   "id": "827cb088",
   "metadata": {},
   "outputs": [],
   "source": [
    "def is_valid_username(username_string):\n",
    "    \n",
    "    # username\n",
    "    username = username_string\n",
    "    \n",
    "    \n",
    "    if len(username_string) <= 32 and re.findall(r'^[a-z0-9_]+$', username_string):\n",
    "        print(f'{username_string} is a valid username.')\n",
    "        return True\n",
    "    else:\n",
    "        print(f'{username_string} is not a valid username.')\n",
    "        return False\n",
    "        \n",
    "        "
   ]
  },
  {
   "cell_type": "code",
   "execution_count": 278,
   "id": "548fcad8",
   "metadata": {},
   "outputs": [
    {
     "name": "stdout",
     "output_type": "stream",
     "text": [
      "i_am_a_valid_username is a valid username.\n"
     ]
    },
    {
     "data": {
      "text/plain": [
       "True"
      ]
     },
     "execution_count": 278,
     "metadata": {},
     "output_type": "execute_result"
    }
   ],
   "source": [
    "# test function for actual valid username\n",
    "is_valid_username('i_am_a_valid_username')"
   ]
  },
  {
   "cell_type": "code",
   "execution_count": 279,
   "id": "e64754f0",
   "metadata": {},
   "outputs": [
    {
     "name": "stdout",
     "output_type": "stream",
     "text": [
      "Iamnotavalidusername is not a valid username.\n"
     ]
    },
    {
     "data": {
      "text/plain": [
       "False"
      ]
     },
     "execution_count": 279,
     "metadata": {},
     "output_type": "execute_result"
    }
   ],
   "source": [
    "# test function for capital letter\n",
    "is_valid_username('Iamnotavalidusername')"
   ]
  },
  {
   "cell_type": "code",
   "execution_count": 280,
   "id": "07dbb265",
   "metadata": {},
   "outputs": [
    {
     "name": "stdout",
     "output_type": "stream",
     "text": [
      "jfjfkjfkfjjfkjfkjkjfjkfjfkkfjfkjfjfkjkf is not a valid username.\n"
     ]
    },
    {
     "data": {
      "text/plain": [
       "False"
      ]
     },
     "execution_count": 280,
     "metadata": {},
     "output_type": "execute_result"
    }
   ],
   "source": [
    "# test function for over 32 characters\n",
    "is_valid_username('jfjfkjfkfjjfkjfkjkjfjkfjfkkfjfkjfjfkjkf')"
   ]
  },
  {
   "cell_type": "markdown",
   "id": "c8bbc568",
   "metadata": {},
   "source": [
    "## Write a regular expression to capture phone numbers. It should match all of the following:"
   ]
  },
  {
   "cell_type": "code",
   "execution_count": 55,
   "id": "43c315c7",
   "metadata": {},
   "outputs": [],
   "source": [
    "pn = '7602842400'\n",
    "pn2 = ['7602842400', '760-284-2400', '+1 760.284.2400', '(760 284 2400)']"
   ]
  },
  {
   "cell_type": "code",
   "execution_count": 57,
   "id": "9015045a",
   "metadata": {},
   "outputs": [
    {
     "data": {
      "text/plain": [
       "[('', '760', '284', '2400')]"
      ]
     },
     "execution_count": 57,
     "metadata": {},
     "output_type": "execute_result"
    }
   ],
   "source": [
    "\n",
    "re.findall(r'(\\+\\d ?)?-?\\.?(\\(?\\d{3}\\)? ?)?-?\\.?(\\d{3} ?)-?\\.?(\\d{4})', pn)"
   ]
  },
  {
   "cell_type": "code",
   "execution_count": 58,
   "id": "040ae9c9",
   "metadata": {},
   "outputs": [
    {
     "data": {
      "text/plain": [
       "[('+1 ', '210', '867', '5309')]"
      ]
     },
     "execution_count": 58,
     "metadata": {},
     "output_type": "execute_result"
    }
   ],
   "source": [
    "re.findall(r'(\\+\\d ?)?-?\\.?(\\(?\\d{3}\\)? ?)?-?\\.?(\\d{3} ?)-?\\.?(\\d{4})',' +1 210.867.5309')"
   ]
  },
  {
   "cell_type": "markdown",
   "id": "7fba2299",
   "metadata": {},
   "source": [
    "## Use regular expressions to convert the dates below to the standardized year-month-day format."
   ]
  },
  {
   "cell_type": "code",
   "execution_count": 82,
   "id": "92fd3e79",
   "metadata": {},
   "outputs": [],
   "source": [
    "x ='02/04/19'\n",
    "xx = '02/05/19'\n",
    "xxx = '02/06/19'\n",
    "xxxx = '02/07/19'\n",
    "xxxxx = '02/08/19'\n",
    "xxxxxx = '02/09/19'\n",
    "xxxxxxx ='02/10/19'\n",
    "xlist = ['02/04/19', '02/05/19', '02/06/19', '02/07/19']"
   ]
  },
  {
   "cell_type": "code",
   "execution_count": 85,
   "id": "b857b4eb",
   "metadata": {},
   "outputs": [
    {
     "data": {
      "text/plain": [
       "'19/02/04'"
      ]
     },
     "execution_count": 85,
     "metadata": {},
     "output_type": "execute_result"
    }
   ],
   "source": [
    "re.sub(r'(..)/(..)/(..)', r'\\3/\\1/\\2', x)\n"
   ]
  },
  {
   "cell_type": "code",
   "execution_count": 81,
   "id": "e210d762",
   "metadata": {},
   "outputs": [
    {
     "data": {
      "text/plain": [
       "'19/02/05'"
      ]
     },
     "execution_count": 81,
     "metadata": {},
     "output_type": "execute_result"
    }
   ],
   "source": [
    "re.sub(r'(..)/(..)/(..)', r'\\3/\\1/\\2', xx)"
   ]
  },
  {
   "cell_type": "code",
   "execution_count": 90,
   "id": "c2cadf4c",
   "metadata": {},
   "outputs": [
    {
     "data": {
      "text/plain": [
       "'19/02/06'"
      ]
     },
     "execution_count": 90,
     "metadata": {},
     "output_type": "execute_result"
    }
   ],
   "source": [
    "re.sub(r'(..)/(..)/(..)', r'\\3/\\1/\\2', xxx)"
   ]
  },
  {
   "cell_type": "markdown",
   "id": "e181071d",
   "metadata": {},
   "source": [
    "## Write a regex to extract the various parts of these logfile lines:"
   ]
  },
  {
   "cell_type": "markdown",
   "id": "a9d15aa3",
   "metadata": {},
   "source": [
    "GET /api/v1/sales?page=86 [16/Apr/2019:193452+0000] HTTP/1.1 {200} 510348 \"python-requests/2.21.0\" 97.105.19.58\n",
    "\n",
    "\n",
    "POST /users_accounts/file-upload [16/Apr/2019:193452+0000] HTTP/1.1 {201} 42 \"User-Agent: Mozilla/5.0 (X11; Fedora; Fedora; Linux x86_64) AppleWebKit/537.36 (KHTML, like Gecko) Chrome/73.0.3683.86 Safari/537.36\" 97.105.19.58\n",
    "\n",
    "GET /api/v1/items?page=3 [16/Apr/2019:193453+0000] HTTP/1.1 {429} 3561 \"python-requests/2.21.0\" 97.105.19.58\n"
   ]
  },
  {
   "cell_type": "code",
   "execution_count": 282,
   "id": "cee0cdef",
   "metadata": {},
   "outputs": [],
   "source": [
    "g = re.compile(r\"\"\"\n",
    "(?P<REQUEST>GET.+ )?\n",
    "(?P<POST>POST.+ )?\n",
    "\\[\n",
    "(?P<TIMESTAMP>.+ )\n",
    "\n",
    "(?P<HTTP>HTTP.+ )\n",
    "\n",
    "(?P<IP>\\d+\\d+\\.\\d+\\.\\d+\\.\\d+)$\n",
    "\n",
    "\"\"\", re.VERBOSE)"
   ]
  },
  {
   "cell_type": "code",
   "execution_count": 283,
   "id": "7e3bd771",
   "metadata": {},
   "outputs": [],
   "source": [
    "log1 = 'GET /api/v1/sales?page=86 [16/Apr/2019:193452+0000] HTTP/1.1 {200} 510348 \"python-requests/2.21.0\" 97.105.19.58'\n",
    "log2 = 'POST /users_accounts/file-upload [16/Apr/2019:193452+0000] HTTP/1.1 {201} 42 \"User-Agent: Mozilla/5.0 (X11; Fedora; Fedora; Linux x86_64) AppleWebKit/537.36 (KHTML, like Gecko) Chrome/73.0.3683.86 Safari/537.36\" 97.105.19.58'\n",
    "log3 = 'GET /api/v1/items?page=3 [16/Apr/2019:193453+0000] HTTP/1.1 {429} 3561 \"python-requests/2.21.0\" 97.105.19.58'"
   ]
  },
  {
   "cell_type": "code",
   "execution_count": 284,
   "id": "3f4fc7b5",
   "metadata": {},
   "outputs": [
    {
     "data": {
      "text/plain": [
       "<re.Match object; span=(0, 111), match='GET /api/v1/sales?page=86 [16/Apr/2019:193452+000>"
      ]
     },
     "execution_count": 284,
     "metadata": {},
     "output_type": "execute_result"
    }
   ],
   "source": [
    "# Log 1\n",
    "L1 = re.search(g, log1)\n",
    "L1"
   ]
  },
  {
   "cell_type": "code",
   "execution_count": 285,
   "id": "5fbb8fa0",
   "metadata": {},
   "outputs": [
    {
     "data": {
      "text/plain": [
       "{'REQUEST': 'GET /api/v1/sales?page=86 ',\n",
       " 'POST': None,\n",
       " 'TIMESTAMP': '16/Apr/2019:193452+0000] ',\n",
       " 'HTTP': 'HTTP/1.1 {200} 510348 \"python-requests/2.21.0\" ',\n",
       " 'IP': '97.105.19.58'}"
      ]
     },
     "execution_count": 285,
     "metadata": {},
     "output_type": "execute_result"
    }
   ],
   "source": [
    "L1.groupdict()"
   ]
  },
  {
   "cell_type": "code",
   "execution_count": 286,
   "id": "5fe76f58",
   "metadata": {},
   "outputs": [
    {
     "data": {
      "text/plain": [
       "<re.Match object; span=(0, 224), match='POST /users_accounts/file-upload [16/Apr/2019:193>"
      ]
     },
     "execution_count": 286,
     "metadata": {},
     "output_type": "execute_result"
    }
   ],
   "source": [
    "# Log 2\n",
    "L2 = re.search(g, log2)\n",
    "L2"
   ]
  },
  {
   "cell_type": "code",
   "execution_count": 287,
   "id": "c04abc61",
   "metadata": {},
   "outputs": [
    {
     "data": {
      "text/plain": [
       "{'REQUEST': None,\n",
       " 'POST': 'POST /users_accounts/file-upload ',\n",
       " 'TIMESTAMP': '16/Apr/2019:193452+0000] ',\n",
       " 'HTTP': 'HTTP/1.1 {201} 42 \"User-Agent: Mozilla/5.0 (X11; Fedora; Fedora; Linux x86_64) AppleWebKit/537.36 (KHTML, like Gecko) Chrome/73.0.3683.86 Safari/537.36\" ',\n",
       " 'IP': '97.105.19.58'}"
      ]
     },
     "execution_count": 287,
     "metadata": {},
     "output_type": "execute_result"
    }
   ],
   "source": [
    "L2.groupdict()"
   ]
  },
  {
   "cell_type": "code",
   "execution_count": 312,
   "id": "e36b50e7",
   "metadata": {},
   "outputs": [],
   "source": [
    "# All Three Logs in one\n",
    "all_three_list = ['GET /api/v1/sales?page=86 [16/Apr/2019:193452+0000] HTTP/1.1 {200} 510348 \"python-requests/2.21.0\" 97.105.19.58',\n",
    "'POST /users_accounts/file-upload [16/Apr/2019:193452+0000] HTTP/1.1 {201} 42 \"User-Agent: Mozilla/5.0 (X11; Fedora; Fedora; Linux x86_64) AppleWebKit/537.36 (KHTML, like Gecko) Chrome/73.0.3683.86 Safari/537.36\" 97.105.19.58',\n",
    "'GET /api/v1/items?page=3 [16/Apr/2019:193453+0000] HTTP/1.1 {429} 3561 \"python-requests/2.21.0\" 97.105.19.58']\n",
    "\n"
   ]
  },
  {
   "cell_type": "code",
   "execution_count": 313,
   "id": "4399d140",
   "metadata": {
    "scrolled": false
   },
   "outputs": [
    {
     "data": {
      "text/plain": [
       "[{'REQUEST': 'GET /api/v1/sales?page=86 ',\n",
       "  'POST': None,\n",
       "  'TIMESTAMP': '16/Apr/2019:193452+0000] ',\n",
       "  'HTTP': 'HTTP/1.1 {200} 510348 \"python-requests/2.21.0\" ',\n",
       "  'IP': '97.105.19.58'},\n",
       " {'REQUEST': None,\n",
       "  'POST': 'POST /users_accounts/file-upload ',\n",
       "  'TIMESTAMP': '16/Apr/2019:193452+0000] ',\n",
       "  'HTTP': 'HTTP/1.1 {201} 42 \"User-Agent: Mozilla/5.0 (X11; Fedora; Fedora; Linux x86_64) AppleWebKit/537.36 (KHTML, like Gecko) Chrome/73.0.3683.86 Safari/537.36\" ',\n",
       "  'IP': '97.105.19.58'},\n",
       " {'REQUEST': 'GET /api/v1/items?page=3 ',\n",
       "  'POST': None,\n",
       "  'TIMESTAMP': '16/Apr/2019:193453+0000] ',\n",
       "  'HTTP': 'HTTP/1.1 {429} 3561 \"python-requests/2.21.0\" ',\n",
       "  'IP': '97.105.19.58'}]"
      ]
     },
     "execution_count": 313,
     "metadata": {},
     "output_type": "execute_result"
    }
   ],
   "source": [
    "# Group Dictionary \n",
    "[re.search(g, i).groupdict() for i in all_three_list]"
   ]
  },
  {
   "cell_type": "code",
   "execution_count": null,
   "id": "21baa83e",
   "metadata": {},
   "outputs": [],
   "source": []
  }
 ],
 "metadata": {
  "kernelspec": {
   "display_name": "Python 3 (ipykernel)",
   "language": "python",
   "name": "python3"
  },
  "language_info": {
   "codemirror_mode": {
    "name": "ipython",
    "version": 3
   },
   "file_extension": ".py",
   "mimetype": "text/x-python",
   "name": "python",
   "nbconvert_exporter": "python",
   "pygments_lexer": "ipython3",
   "version": "3.9.15"
  },
  "toc": {
   "base_numbering": 1,
   "nav_menu": {},
   "number_sections": true,
   "sideBar": true,
   "skip_h1_title": false,
   "title_cell": "Table of Contents",
   "title_sidebar": "Contents",
   "toc_cell": false,
   "toc_position": {},
   "toc_section_display": true,
   "toc_window_display": false
  }
 },
 "nbformat": 4,
 "nbformat_minor": 5
}
